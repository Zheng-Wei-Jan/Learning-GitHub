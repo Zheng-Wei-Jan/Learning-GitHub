{
 "cells": [
  {
   "cell_type": "markdown",
   "metadata": {},
   "source": [
    "# 機器學習 4 大分支\n",
    "- 監督式學習(Supervised Learning)\n",
    "- 非監督式學習(Unsupervised Learning)\n",
    "- 自監督式學習(Self-Supervised Learning)\n",
    "- 增強式學習(Reinforcement Learning)"
   ]
  },
  {
   "cell_type": "markdown",
   "metadata": {},
   "source": [
    "### 監督式學習(Supervised Learning)\n",
    "- 二元分類 多類別分類 純量迴歸\n",
    "- 字元識別 語音識別 圖像分類\n",
    "- 序列生成(Sequence Generation)\n",
    "- 語法樹預測(syntax tree prediction)\n",
    "- 物件偵測(object detection)"
   ]
  },
  {
   "cell_type": "code",
   "execution_count": null,
   "metadata": {},
   "outputs": [],
   "source": []
  }
 ],
 "metadata": {
  "kernelspec": {
   "display_name": "Python 3",
   "language": "python",
   "name": "python3"
  },
  "language_info": {
   "codemirror_mode": {
    "name": "ipython",
    "version": 3
   },
   "file_extension": ".py",
   "mimetype": "text/x-python",
   "name": "python",
   "nbconvert_exporter": "python",
   "pygments_lexer": "ipython3",
   "version": "3.6.8"
  }
 },
 "nbformat": 4,
 "nbformat_minor": 2
}
