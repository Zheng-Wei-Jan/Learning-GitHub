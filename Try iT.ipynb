{
 "cells": [
  {
   "cell_type": "code",
   "execution_count": null,
   "metadata": {},
   "outputs": [],
   "source": [
    "import numpy as np"
   ]
  },
  {
   "cell_type": "code",
   "execution_count": null,
   "metadata": {},
   "outputs": [],
   "source": [
    "x = np.array(12)\n",
    "print(x)"
   ]
  },
  {
   "cell_type": "code",
   "execution_count": null,
   "metadata": {},
   "outputs": [],
   "source": [
    "data = {i : np.random.rand() for i in range(12)}"
   ]
  },
  {
   "cell_type": "code",
   "execution_count": null,
   "metadata": {},
   "outputs": [],
   "source": [
    "data"
   ]
  },
  {
   "cell_type": "code",
   "execution_count": null,
   "metadata": {},
   "outputs": [],
   "source": [
    "%pwd"
   ]
  },
  {
   "cell_type": "code",
   "execution_count": null,
   "metadata": {},
   "outputs": [],
   "source": [
    "import matplotlib.pyplot as plt\n",
    "%matplotlib inline"
   ]
  },
  {
   "cell_type": "code",
   "execution_count": null,
   "metadata": {},
   "outputs": [],
   "source": [
    "plt.plot(np.random.rand(100).cumsum())"
   ]
  },
  {
   "cell_type": "code",
   "execution_count": null,
   "metadata": {},
   "outputs": [],
   "source": [
    "for i in  np.array:\n",
    "    if i < pivot:\n",
    "        less.append(i)\n",
    "    else:\n",
    "        greater.append(i)"
   ]
  },
  {
   "cell_type": "code",
   "execution_count": null,
   "metadata": {},
   "outputs": [],
   "source": [
    "import numpy as np"
   ]
  },
  {
   "cell_type": "code",
   "execution_count": null,
   "metadata": {},
   "outputs": [],
   "source": [
    "a = np.array([11, 12, 13 ,14, 15])\n",
    "b = np.array([[11, 22, 33, 44, 55], [11, 22, 33, 44, 55], [11, 22, 33, 44, 55]])\n",
    "c1 = np.array([[[11, 22, 33], [11, 22, 33], [11, 22, 33], [11, 22, 33], [11, 22, 33]], \n",
    "              [[11, 22, 33], [11, 22, 33], [11, 22, 33], [11, 22, 33], [11, 22, 33]], \n",
    "              [[11, 22, 33], [11, 22, 33], [11, 22, 33], [11, 22, 33], [11, 22, 33]]])\n",
    "c2 = np.array([[[11, 22, 33], [11, 22, 33], [11, 22, 33]], \n",
    "               [[11, 22, 33], [11, 22, 33], [11, 22, 33]],\n",
    "               [[11, 22, 33], [11, 22, 33], [11, 22, 33]],\n",
    "               [[11, 22, 33], [11, 22, 33], [11, 22, 33]],\n",
    "               [[11, 22, 33], [11, 22, 33], [11, 22, 33]]])"
   ]
  },
  {
   "cell_type": "code",
   "execution_count": null,
   "metadata": {},
   "outputs": [],
   "source": [
    "print('a.ndim:' , a.ndim , '階陣列')\n",
    "print('b.ndim:' , b.ndim , '階陣列')\n",
    "print('c1.ndim:', c1.ndim, '階陣列')\n",
    "print('c2.ndim:', c2.ndim, '階陣列')"
   ]
  },
  {
   "cell_type": "code",
   "execution_count": null,
   "metadata": {},
   "outputs": [],
   "source": [
    "print('a.shape:' , a.shape , '陣列')\n",
    "print('b.shape:' , b.shape , '陣列')\n",
    "print('c1.shape:', c1.shape, '陣列')\n",
    "print('c2.shape:', c2.shape, '陣列')"
   ]
  },
  {
   "cell_type": "markdown",
   "metadata": {},
   "source": [
    "# import MNIST DataSet"
   ]
  },
  {
   "cell_type": "code",
   "execution_count": null,
   "metadata": {},
   "outputs": [],
   "source": [
    "import keras.datasets.mnist as mnist"
   ]
  },
  {
   "cell_type": "code",
   "execution_count": null,
   "metadata": {},
   "outputs": [],
   "source": [
    "# mnist.load_data()\n",
    "(train_images, train_labels), (test_images, test_labels) = mnist.load_data()"
   ]
  },
  {
   "cell_type": "markdown",
   "metadata": {},
   "source": [
    "# 確認資料型態"
   ]
  },
  {
   "cell_type": "code",
   "execution_count": null,
   "metadata": {},
   "outputs": [],
   "source": [
    "print('Train_images:為', train_images.ndim, '階陣列')\n",
    "print('Test_images:為', test_images.ndim, '階陣列')"
   ]
  },
  {
   "cell_type": "markdown",
   "metadata": {},
   "source": [
    "### Train_images.Shape: (60000, 28, 28)\n",
    "### Test_images.Shape: (10000, 28, 28)\n",
    "- Train_images 為 60000 * 28 * 28 (3D Tensor)\n",
    "- Test_images 為 10000 * 28 * 28 (3D Tensor)"
   ]
  },
  {
   "cell_type": "code",
   "execution_count": null,
   "metadata": {},
   "outputs": [],
   "source": [
    "print('Train_images.Shape:', train_images.shape)\n",
    "print('Test_images.Shape:', test_images.shape)"
   ]
  },
  {
   "cell_type": "code",
   "execution_count": null,
   "metadata": {},
   "outputs": [],
   "source": [
    "MySlice_1 = train_images[10 : 100, :, :]\n",
    "print('Example_1(train_images[10:100, :, :]):', MySlice_1.shape)\n",
    "MySlice_2 = train_images[10 : 100, 0 : 28, 0 : 28]\n",
    "print('Example_2(train_images[10 : 100, 0 : 28, 0 : 28]):', MySlice_2.shape)\n",
    "MySlice_3 = train_images[ : ,  : ,  : ]\n",
    "print('Example_3(train_images[ : , 0 : 28, 0 : 28]):', MySlice_3.shape)\n",
    "MySlice_4 = train_images[ : 60000,  : 28,  : 28]\n",
    "print('Example_4(train_images[0 : 60000, 0 : 28, 0 : 28]):', MySlice_4.shape)\n",
    "\n",
    "# 從頭7個開始, 並去掉從後數來7個, -7 ~ -1 共 7 個, (28 - 7) + (- 7) = 14\n",
    "MySlice_5 = train_images[ : , 7 : -7, 7 : -7]\n",
    "print('Example_5(train_images[ : , 7 : -7, 7 : -7]):', MySlice_5.shape)\n",
    "# 從頭5個開始, 並去掉從後數來5個, -5 ~ -1 共 5 個, (28 - 5) + (- 5) = 18\n",
    "MySlice_6 = train_images[ : , 5 : -5, 5 : -5]\n",
    "print('Example_6(train_images[ : , 5 : -5, 5 : -5]):', MySlice_6.shape)"
   ]
  },
  {
   "cell_type": "code",
   "execution_count": null,
   "metadata": {},
   "outputs": [],
   "source": [
    "a = train_images[:, 7:-2, 7:-2].shape\n",
    "aa = train_images[:, :-2, :-2].shape\n",
    "print(a)\n",
    "print(aa)"
   ]
  },
  {
   "cell_type": "markdown",
   "metadata": {},
   "source": [
    "# Data Batch(資料批次處理)"
   ]
  },
  {
   "cell_type": "code",
   "execution_count": null,
   "metadata": {},
   "outputs": [],
   "source": [
    "n = 1\n",
    "# Set Batch(128)\n",
    "Batch = train_images[:128]\n",
    "# 接著下一批次\n",
    "batch = train_images[128:256]\n",
    "# 及第n批次\n",
    "batch = train_images[128 * n : 128 * (n+1)]"
   ]
  },
  {
   "cell_type": "markdown",
   "metadata": {},
   "source": [
    " # Data Tensor Example"
   ]
  },
  {
   "cell_type": "markdown",
   "metadata": {},
   "source": [
    "### 向量資料(2D) \n",
    "- shape.(samples, feature)\n",
    "### 時間序列資料或序列資料(3D)\n",
    "- shape.(samples, timesteps,feature)\n",
    "### 影像(4D)\n",
    "- shape.(samples, height, width, channels)\n",
    "- or\n",
    "- shape.(samples, channels, height, width)\n",
    "### 視訊(5D)\n",
    "- shape.(samples, frames, height, width, channels) \n",
    "- or \n",
    "- shape.(samples, frames, channels, height, width) "
   ]
  },
  {
   "cell_type": "code",
   "execution_count": null,
   "metadata": {},
   "outputs": [],
   "source": [
    "# Dense 運算\n",
    "import keras.datasets.mnist \n",
    "import keras"
   ]
  },
  {
   "cell_type": "code",
   "execution_count": null,
   "metadata": {},
   "outputs": [],
   "source": [
    "keras.layers.Dense(512, activation='relu')"
   ]
  },
  {
   "cell_type": "markdown",
   "metadata": {},
   "source": [
    "# output = relu(dot(W, input) + b )\n",
    "## 說明 : \n",
    "- input Tensor, and W Tensor 進行 點積(Dot) 運算\n",
    "- Get 2D Tensor\n",
    "- Add Vector B"
   ]
  },
  {
   "cell_type": "markdown",
   "metadata": {},
   "source": [
    " # ReLu 運算\n",
    " - relu(x) 是 max(x, 0)\n",
    " - 是一個正向線性輸出之函數, 將負值轉為0, 取 max(x, 0) 之間較大者\n",
    " - if x >= 0, max(x, 0))\n",
    " "
   ]
  },
  {
   "cell_type": "markdown",
   "metadata": {},
   "source": [
    "# 向量化執行(vectorized implementation)\n",
    "向量化編程是提高算法速度的一種有效方法。為了提升特定數值運算操作（如矩陣相乘、矩陣相加、矩陣-向量乘法等）的速度，數值計算和並行計算的研究人員已經努力了幾十年。矢量化編程的思想就是盡量使用這些被高度優化的數值運算操作來實現我們的學習算法"
   ]
  },
  {
   "cell_type": "markdown",
   "metadata": {},
   "source": [
    "### Example Question"
   ]
  },
  {
   "cell_type": "code",
   "execution_count": null,
   "metadata": {},
   "outputs": [],
   "source": [
    "import numpy as np\n",
    "\n",
    "def naive_add(x):\n",
    "    assert len(x.shape) == 2 # 如果 x 不是 2D 張量, 會出現 AssertionError\n",
    "    \n",
    "    x = x.copy()\n",
    "    for i in range(x.shape[0]):\n",
    "        for j in range(x.shape[1]):\n",
    "            x[i, j] = max([i, j], 0) # 若數值小於0, 則為0; 若數值大於0,則維持原數值\n",
    "    return x\n",
    "    \n",
    "def naive_add(x, y):\n",
    "    # x, y 都是 2D tensor\n",
    "    assert len(x.shape) == 2\n",
    "    assert x.shape == y.shape\n",
    "    for i in range(x.shape[0]):\n",
    "        for j in range(x.shape):\n",
    "            x[i, j] += x[i, j]\n",
    "    return x "
   ]
  },
  {
   "cell_type": "code",
   "execution_count": null,
   "metadata": {},
   "outputs": [],
   "source": [
    "z = x + y \n",
    "z = x * y\n",
    "z = np.maximum(z, 0.) # 元素間 ReLu 運算"
   ]
  },
  {
   "cell_type": "code",
   "execution_count": null,
   "metadata": {},
   "outputs": [],
   "source": [
    "import numpy as np\n",
    "\n",
    "def naive_add(x):\n",
    "    assert len(x.shape) == 2 # 如果 x 不是 2D 張量, 會出現 AssertionError\n",
    "    \n",
    "    x = x.copy()\n",
    "    for i in range(x.shape[0]):\n",
    "        for j in range(x.shape[1]):\n",
    "            x[i, j] = max([i, j], 0) # 若數值小於0, 則為0; 若數值大於0,則維持原數值\n",
    "    return x\n",
    "    \n",
    "def naive_add(x, y):\n",
    "    # x, y 都是 2D tensor\n",
    "    assert len(x.shape) == 2\n",
    "    assert x.shape == y.shape\n",
    "    for i in range(x.shape[0]):\n",
    "        for j in range(x.shape):\n",
    "            x[i, j] += x[i, j]\n",
    "    return x \n",
    "\n",
    "def naive_add_matrix_and_vector(x, y):\n",
    "    assert len(x.shape) == 2 # 2D 張量\n",
    "    assert len(y.shape) == 1 # Numpy 張量\n",
    "    assert x.shape[1] == y.shape[0]\n",
    "    x.copy()\n",
    "    for i in range(x.shape[0]):\n",
    "        for j in range(x.shape[1]):\n",
    "            x[i, j] += y[j]\n",
    "    return x \n",
    "    \n",
    "    "
   ]
  },
  {
   "cell_type": "code",
   "execution_count": null,
   "metadata": {},
   "outputs": [],
   "source": [
    "naive_add_matrix_and_vector"
   ]
  },
  {
   "cell_type": "markdown",
   "metadata": {},
   "source": [
    "### Numpy 寫法 "
   ]
  },
  {
   "cell_type": "code",
   "execution_count": 2,
   "metadata": {},
   "outputs": [],
   "source": [
    "import numpy as np"
   ]
  },
  {
   "cell_type": "code",
   "execution_count": 6,
   "metadata": {},
   "outputs": [
    {
     "data": {
      "text/plain": [
       "(12, 21, 32, 10)"
      ]
     },
     "execution_count": 6,
     "metadata": {},
     "output_type": "execute_result"
    }
   ],
   "source": [
    "x = np.random.random((12, 21, 32, 10)) # Random Tensor\n",
    "y = np.random.random((32, 10))         # Random Tensor\n",
    "z = np.maximum(x, y)\n",
    "z.shape"
   ]
  },
  {
   "cell_type": "markdown",
   "metadata": {},
   "source": [
    "# Dot 運算\n",
    "* z = x．y"
   ]
  },
  {
   "cell_type": "code",
   "execution_count": 10,
   "metadata": {},
   "outputs": [],
   "source": [
    "def navie_vector_dot(x, y):\n",
    "    assert len(x.shape) == 1\n",
    "    assert len(y.shape) == 1\n",
    "    assert x.shape[0] == y.shape[0]\n",
    "    z = 0.\n",
    "    for i in range(x.shape[0]):\n",
    "        z += x[i] * y[i] # x[0] * y[0] + x[1] * y[1] + x[2] * y[2] + x[3] * y[3]... + x[n] * y[n]\n",
    "    return z "
   ]
  },
  {
   "cell_type": "code",
   "execution_count": 11,
   "metadata": {},
   "outputs": [],
   "source": [
    "def navie_matrix_vector_dot(x, y):\n",
    "    assert len(x.shape) == 2\n",
    "    assert len(y.shape) == 1\n",
    "    assert x.shape[1] == y.shape[0] \n",
    "    ## x 軸的第1維度必須與 y軸的第0維度相等\n",
    "    z = np.zeros(x.shape[0])\n",
    "    for j in range(x.shape[0]):\n",
    "        z += x[i, j] * y[j] # x[0] * y[0] + x[1] * y[1] + x[2] * y[2] + x[3] * y[3]... + x[n] * y[n]\n",
    "    return z "
   ]
  },
  {
   "cell_type": "markdown",
   "metadata": {},
   "source": [
    "## 張量重塑 Reshape"
   ]
  },
  {
   "cell_type": "code",
   "execution_count": 14,
   "metadata": {},
   "outputs": [],
   "source": [
    "import keras\n",
    "from keras.datasets import mnist"
   ]
  },
  {
   "cell_type": "code",
   "execution_count": 15,
   "metadata": {},
   "outputs": [],
   "source": [
    "# mnist.load_data()\n",
    "(train_images, train_labels), (test_images, test_labels) = mnist.load_data()"
   ]
  },
  {
   "cell_type": "code",
   "execution_count": 16,
   "metadata": {},
   "outputs": [
    {
     "data": {
      "text/plain": [
       "(60000, 28, 28)"
      ]
     },
     "execution_count": 16,
     "metadata": {},
     "output_type": "execute_result"
    }
   ],
   "source": [
    "train_images.shape"
   ]
  },
  {
   "cell_type": "code",
   "execution_count": 17,
   "metadata": {},
   "outputs": [
    {
     "data": {
      "text/plain": [
       "(10000, 28, 28)"
      ]
     },
     "execution_count": 17,
     "metadata": {},
     "output_type": "execute_result"
    }
   ],
   "source": [
    "test_images.shape"
   ]
  },
  {
   "cell_type": "code",
   "execution_count": 19,
   "metadata": {},
   "outputs": [],
   "source": [
    "train_images = train_images.reshape((60000, 28, 28))"
   ]
  },
  {
   "cell_type": "code",
   "execution_count": 20,
   "metadata": {},
   "outputs": [
    {
     "data": {
      "text/plain": [
       "(60000, 28, 28)"
      ]
     },
     "execution_count": 20,
     "metadata": {},
     "output_type": "execute_result"
    }
   ],
   "source": [
    "train_images.shape"
   ]
  },
  {
   "cell_type": "code",
   "execution_count": 21,
   "metadata": {},
   "outputs": [],
   "source": [
    "a = np.array([[0., 1.], \n",
    "              [2. ,3.], \n",
    "              [4., 5.]])"
   ]
  },
  {
   "cell_type": "code",
   "execution_count": 22,
   "metadata": {},
   "outputs": [
    {
     "data": {
      "text/plain": [
       "(3, 2)"
      ]
     },
     "execution_count": 22,
     "metadata": {},
     "output_type": "execute_result"
    }
   ],
   "source": [
    "a.shape"
   ]
  },
  {
   "cell_type": "code",
   "execution_count": 27,
   "metadata": {},
   "outputs": [
    {
     "data": {
      "text/plain": [
       "array([[0.],\n",
       "       [1.],\n",
       "       [2.],\n",
       "       [3.],\n",
       "       [4.],\n",
       "       [5.]])"
      ]
     },
     "execution_count": 27,
     "metadata": {},
     "output_type": "execute_result"
    }
   ],
   "source": [
    "b = a.reshape((6, 1))\n",
    "b"
   ]
  },
  {
   "cell_type": "code",
   "execution_count": 30,
   "metadata": {},
   "outputs": [
    {
     "data": {
      "text/plain": [
       "array([[0., 1.],\n",
       "       [2., 3.],\n",
       "       [4., 5.]])"
      ]
     },
     "execution_count": 30,
     "metadata": {},
     "output_type": "execute_result"
    }
   ],
   "source": [
    "a = b.reshape((3,2))\n",
    "a"
   ]
  },
  {
   "cell_type": "code",
   "execution_count": 31,
   "metadata": {},
   "outputs": [],
   "source": [
    "c = np.zeros((300, 20))"
   ]
  },
  {
   "cell_type": "code",
   "execution_count": 33,
   "metadata": {},
   "outputs": [
    {
     "data": {
      "text/plain": [
       "(20, 300)"
      ]
     },
     "execution_count": 33,
     "metadata": {},
     "output_type": "execute_result"
    }
   ],
   "source": [
    "c = np.transpose(c) # 原為(300, 20)矩陣, transpose為 (20, 300) 的矩陣\n",
    "c.shape"
   ]
  },
  {
   "cell_type": "markdown",
   "metadata": {},
   "source": [
    "# output = relu(dot(W, input)+b)"
   ]
  },
  {
   "cell_type": "code",
   "execution_count": 1,
   "metadata": {},
   "outputs": [],
   "source": [
    "import numpy as np"
   ]
  },
  {
   "cell_type": "markdown",
   "metadata": {},
   "source": [
    "## y_pred = dot(W, x)\n",
    "## loss_value = loss(y_pred, y) = loss(dot(W, x), y)\n",
    "\n",
    "### 如果輸入 x, y 不變, 唯一只有 W是變數\n",
    "- 亦是 loss_funtion = f(W)"
   ]
  },
  {
   "cell_type": "markdown",
   "metadata": {},
   "source": [
    "## f(W) 的梯度用 gradient f(W) \n",
    "- f(W) 為純量\n",
    "- gradient f(W) -> Tensor"
   ]
  },
  {
   "cell_type": "code",
   "execution_count": null,
   "metadata": {},
   "outputs": [],
   "source": []
  }
 ],
 "metadata": {
  "kernelspec": {
   "display_name": "Python 3",
   "language": "python",
   "name": "python3"
  },
  "language_info": {
   "codemirror_mode": {
    "name": "ipython",
    "version": 3
   },
   "file_extension": ".py",
   "mimetype": "text/x-python",
   "name": "python",
   "nbconvert_exporter": "python",
   "pygments_lexer": "ipython3",
   "version": "3.6.8"
  }
 },
 "nbformat": 4,
 "nbformat_minor": 2
}
